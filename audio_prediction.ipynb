{
  "nbformat": 4,
  "nbformat_minor": 0,
  "metadata": {
    "colab": {
      "name": "audio_prediction.ipynb",
      "provenance": [],
      "authorship_tag": "ABX9TyMmCPibxvcjIyF2mZ2P90yM",
      "include_colab_link": true
    },
    "kernelspec": {
      "name": "python3",
      "display_name": "Python 3"
    },
    "accelerator": "TPU"
  },
  "cells": [
    {
      "cell_type": "markdown",
      "metadata": {
        "id": "view-in-github",
        "colab_type": "text"
      },
      "source": [
        "<a href=\"https://colab.research.google.com/github/RVT123123/audio_classification/blob/master/audio_prediction.ipynb\" target=\"_parent\"><img src=\"https://colab.research.google.com/assets/colab-badge.svg\" alt=\"Open In Colab\"/></a>"
      ]
    },
    {
      "cell_type": "code",
      "metadata": {
        "id": "VhYqIJLdQ932",
        "colab_type": "code",
        "colab": {
          "base_uri": "https://localhost:8080/",
          "height": 202
        },
        "outputId": "4235ea6a-c0ad-464e-9bdf-b095b65d776f"
      },
      "source": [
        "pip install  python_speech_features"
      ],
      "execution_count": 2,
      "outputs": [
        {
          "output_type": "stream",
          "text": [
            "Collecting python_speech_features\n",
            "  Downloading https://files.pythonhosted.org/packages/ff/d1/94c59e20a2631985fbd2124c45177abaa9e0a4eee8ba8a305aa26fc02a8e/python_speech_features-0.6.tar.gz\n",
            "Building wheels for collected packages: python-speech-features\n",
            "  Building wheel for python-speech-features (setup.py) ... \u001b[?25l\u001b[?25hdone\n",
            "  Created wheel for python-speech-features: filename=python_speech_features-0.6-cp36-none-any.whl size=5887 sha256=8138511e871f4f834e7904bf305b1813a0444f640b882f0faa15302567e4064d\n",
            "  Stored in directory: /root/.cache/pip/wheels/3c/42/7c/f60e9d1b40015cd69b213ad90f7c18a9264cd745b9888134be\n",
            "Successfully built python-speech-features\n",
            "Installing collected packages: python-speech-features\n",
            "Successfully installed python-speech-features-0.6\n"
          ],
          "name": "stdout"
        }
      ]
    },
    {
      "cell_type": "code",
      "metadata": {
        "id": "F1dNe73VMITa",
        "colab_type": "code",
        "colab": {
          "base_uri": "https://localhost:8080/",
          "height": 35
        },
        "outputId": "3778b98c-fb4c-49c4-f272-c53f0a2fa0c3"
      },
      "source": [
        "import pickle\n",
        "import os\n",
        "import numpy as np\n",
        "from tqdm import tqdm\n",
        "from scipy.io import wavfile\n",
        "from python_speech_features import mfcc\n",
        "from keras.models import load_model\n",
        "import pandas as pd\n",
        "from sklearn.metrics import accuracy_score"
      ],
      "execution_count": 3,
      "outputs": [
        {
          "output_type": "stream",
          "text": [
            "Using TensorFlow backend.\n"
          ],
          "name": "stderr"
        }
      ]
    },
    {
      "cell_type": "code",
      "metadata": {
        "id": "q5eQ5YO0QYlq",
        "colab_type": "code",
        "colab": {}
      },
      "source": [
        ""
      ],
      "execution_count": 0,
      "outputs": []
    },
    {
      "cell_type": "code",
      "metadata": {
        "id": "KacdD8rLRK0w",
        "colab_type": "code",
        "colab": {
          "base_uri": "https://localhost:8080/",
          "height": 129
        },
        "outputId": "2cf1e151-07f5-452c-fe86-c76b9e6ff4a6"
      },
      "source": [
        "from google.colab import drive\n",
        "drive.mount('/content/gdrive')"
      ],
      "execution_count": 5,
      "outputs": [
        {
          "output_type": "stream",
          "text": [
            "Go to this URL in a browser: https://accounts.google.com/o/oauth2/auth?client_id=947318989803-6bn6qk8qdgf4n4g3pfee6491hc0brc4i.apps.googleusercontent.com&redirect_uri=urn%3aietf%3awg%3aoauth%3a2.0%3aoob&response_type=code&scope=email%20https%3a%2f%2fwww.googleapis.com%2fauth%2fdocs.test%20https%3a%2f%2fwww.googleapis.com%2fauth%2fdrive%20https%3a%2f%2fwww.googleapis.com%2fauth%2fdrive.photos.readonly%20https%3a%2f%2fwww.googleapis.com%2fauth%2fpeopleapi.readonly\n",
            "\n",
            "Enter your authorization code:\n",
            "··········\n",
            "Mounted at /content/gdrive\n"
          ],
          "name": "stdout"
        }
      ]
    },
    {
      "cell_type": "code",
      "metadata": {
        "id": "JQlD2j8WU56-",
        "colab_type": "code",
        "colab": {
          "base_uri": "https://localhost:8080/",
          "height": 201
        },
        "outputId": "6a668713-391c-4058-dea1-99b78c5a90e2"
      },
      "source": [
        "classes"
      ],
      "execution_count": 24,
      "outputs": [
        {
          "output_type": "execute_result",
          "data": {
            "text/plain": [
              "['Acoustic_guitar',\n",
              " 'Bass_drum',\n",
              " 'Cello',\n",
              " 'Clarinet',\n",
              " 'Double_bass',\n",
              " 'Flute',\n",
              " 'Hi-hat',\n",
              " 'Saxophone',\n",
              " 'Snare_drum',\n",
              " 'Violin_or_fiddle']"
            ]
          },
          "metadata": {
            "tags": []
          },
          "execution_count": 24
        }
      ]
    },
    {
      "cell_type": "code",
      "metadata": {
        "id": "QMGAm9HaRNPy",
        "colab_type": "code",
        "colab": {}
      },
      "source": [
        "def build_prediction(audio_dir):\n",
        "    y_true = []\n",
        "    y_pred = []\n",
        "    fn_prob = {}\n",
        "    \n",
        "    \n",
        "    \n",
        "    print('Extacting features from audio')\n",
        "    for fn in tqdm(os.listdir(audio_dir)):\n",
        "        rate, wav = wavfile.read(os.path.join(audio_dir, fn))\n",
        "        label=fn2class[fn]\n",
        "        c = classes.index(label)\n",
        "        y_prob = []\n",
        "\n",
        "        for i in range(0, wav.shape[0]-config.step, config.step):\n",
        "            sample = wav[i:i+config.step]\n",
        "            x = mfcc(sample, rate,numcep = config.nfeat , nfilt=config.nfilt, nfft=config.nfft )\n",
        "            x = (x - config.min)/ (config.max - config.min)\n",
        "            \n",
        "            \n",
        "            if config.mode == 'conv':\n",
        "                x = x.reshape(1, x.shape[0], x.shape[1], 1)\n",
        "            elif config.mode == 'time':\n",
        "                x = np.expand_dims(x,axis=0)\n",
        "                \n",
        "            y_hat = model.predict(x)\n",
        "            y_prob.append(y_hat)\n",
        "            y_pred.append(np.argmax(y_hat))\n",
        "            y_true.append(c)\n",
        "            \n",
        "        fn_prob[fn] = np.mean(y_prob, axis=0).flatten()\n",
        "        \n",
        "    return y_true,y_pred,fn_prob"
      ],
      "execution_count": 0,
      "outputs": []
    },
    {
      "cell_type": "code",
      "metadata": {
        "id": "bcpWCQNBRlBU",
        "colab_type": "code",
        "colab": {}
      },
      "source": [
        "df = pd.read_csv('/content/gdrive/My Drive/audio_classification/Audio-Classification-master/instruments.csv')"
      ],
      "execution_count": 0,
      "outputs": []
    },
    {
      "cell_type": "code",
      "metadata": {
        "id": "K_gUZxALUeNX",
        "colab_type": "code",
        "colab": {
          "base_uri": "https://localhost:8080/",
          "height": 424
        },
        "outputId": "aa1b591d-c066-458c-ea6b-6038ba1838c5"
      },
      "source": [
        "df"
      ],
      "execution_count": 18,
      "outputs": [
        {
          "output_type": "execute_result",
          "data": {
            "text/html": [
              "<div>\n",
              "<style scoped>\n",
              "    .dataframe tbody tr th:only-of-type {\n",
              "        vertical-align: middle;\n",
              "    }\n",
              "\n",
              "    .dataframe tbody tr th {\n",
              "        vertical-align: top;\n",
              "    }\n",
              "\n",
              "    .dataframe thead th {\n",
              "        text-align: right;\n",
              "    }\n",
              "</style>\n",
              "<table border=\"1\" class=\"dataframe\">\n",
              "  <thead>\n",
              "    <tr style=\"text-align: right;\">\n",
              "      <th></th>\n",
              "      <th>fname</th>\n",
              "      <th>label</th>\n",
              "    </tr>\n",
              "  </thead>\n",
              "  <tbody>\n",
              "    <tr>\n",
              "      <th>0</th>\n",
              "      <td>5388d14d.wav</td>\n",
              "      <td>Saxophone</td>\n",
              "    </tr>\n",
              "    <tr>\n",
              "      <th>1</th>\n",
              "      <td>c685f05f.wav</td>\n",
              "      <td>Saxophone</td>\n",
              "    </tr>\n",
              "    <tr>\n",
              "      <th>2</th>\n",
              "      <td>36d20ab5.wav</td>\n",
              "      <td>Saxophone</td>\n",
              "    </tr>\n",
              "    <tr>\n",
              "      <th>3</th>\n",
              "      <td>d6665734.wav</td>\n",
              "      <td>Saxophone</td>\n",
              "    </tr>\n",
              "    <tr>\n",
              "      <th>4</th>\n",
              "      <td>7352e28f.wav</td>\n",
              "      <td>Saxophone</td>\n",
              "    </tr>\n",
              "    <tr>\n",
              "      <th>...</th>\n",
              "      <td>...</td>\n",
              "      <td>...</td>\n",
              "    </tr>\n",
              "    <tr>\n",
              "      <th>295</th>\n",
              "      <td>3c713bcf.wav</td>\n",
              "      <td>Clarinet</td>\n",
              "    </tr>\n",
              "    <tr>\n",
              "      <th>296</th>\n",
              "      <td>2fc00271.wav</td>\n",
              "      <td>Clarinet</td>\n",
              "    </tr>\n",
              "    <tr>\n",
              "      <th>297</th>\n",
              "      <td>b0c06255.wav</td>\n",
              "      <td>Clarinet</td>\n",
              "    </tr>\n",
              "    <tr>\n",
              "      <th>298</th>\n",
              "      <td>71c6451f.wav</td>\n",
              "      <td>Clarinet</td>\n",
              "    </tr>\n",
              "    <tr>\n",
              "      <th>299</th>\n",
              "      <td>5de123c3.wav</td>\n",
              "      <td>Clarinet</td>\n",
              "    </tr>\n",
              "  </tbody>\n",
              "</table>\n",
              "<p>300 rows × 2 columns</p>\n",
              "</div>"
            ],
            "text/plain": [
              "            fname      label\n",
              "0    5388d14d.wav  Saxophone\n",
              "1    c685f05f.wav  Saxophone\n",
              "2    36d20ab5.wav  Saxophone\n",
              "3    d6665734.wav  Saxophone\n",
              "4    7352e28f.wav  Saxophone\n",
              "..            ...        ...\n",
              "295  3c713bcf.wav   Clarinet\n",
              "296  2fc00271.wav   Clarinet\n",
              "297  b0c06255.wav   Clarinet\n",
              "298  71c6451f.wav   Clarinet\n",
              "299  5de123c3.wav   Clarinet\n",
              "\n",
              "[300 rows x 2 columns]"
            ]
          },
          "metadata": {
            "tags": []
          },
          "execution_count": 18
        }
      ]
    },
    {
      "cell_type": "code",
      "metadata": {
        "id": "eaN35tCTR4zg",
        "colab_type": "code",
        "colab": {}
      },
      "source": [
        "classes = list(np.unique(df.label))\n",
        "fn2class = dict(zip(df.fname, df.label))"
      ],
      "execution_count": 0,
      "outputs": []
    },
    {
      "cell_type": "code",
      "metadata": {
        "id": "6n-hcdWDUjWi",
        "colab_type": "code",
        "colab": {
          "base_uri": "https://localhost:8080/",
          "height": 35
        },
        "outputId": "2065d978-7698-4faa-96b0-82e0dfbf7e69"
      },
      "source": [
        "len(fn2class)"
      ],
      "execution_count": 21,
      "outputs": [
        {
          "output_type": "execute_result",
          "data": {
            "text/plain": [
              "300"
            ]
          },
          "metadata": {
            "tags": []
          },
          "execution_count": 21
        }
      ]
    },
    {
      "cell_type": "code",
      "metadata": {
        "id": "YKE90qTaR9ag",
        "colab_type": "code",
        "colab": {}
      },
      "source": [
        "p_path = os.path.join('/content/gdrive/My Drive/AUDIO_classifier/pickle/','conv.p')"
      ],
      "execution_count": 0,
      "outputs": []
    },
    {
      "cell_type": "code",
      "metadata": {
        "id": "Ags0cf6VSGgd",
        "colab_type": "code",
        "colab": {
          "base_uri": "https://localhost:8080/",
          "height": 35
        },
        "outputId": "8878fdf2-90a4-4ecd-b357-3e9a8af4776e"
      },
      "source": [
        "p_path"
      ],
      "execution_count": 10,
      "outputs": [
        {
          "output_type": "execute_result",
          "data": {
            "text/plain": [
              "'/content/gdrive/My Drive/AUDIO_classifier/pickle/conv.p'"
            ]
          },
          "metadata": {
            "tags": []
          },
          "execution_count": 10
        }
      ]
    },
    {
      "cell_type": "code",
      "metadata": {
        "id": "GWeYhUjTSHx-",
        "colab_type": "code",
        "colab": {}
      },
      "source": [
        "with open(p_path,'rb') as handle:\n",
        "    config = pickle.load(handle)"
      ],
      "execution_count": 0,
      "outputs": []
    },
    {
      "cell_type": "code",
      "metadata": {
        "id": "cKSUAfDjSMeO",
        "colab_type": "code",
        "colab": {}
      },
      "source": [
        "model = load_model(config.model_path)"
      ],
      "execution_count": 0,
      "outputs": []
    },
    {
      "cell_type": "code",
      "metadata": {
        "id": "Kw4uDcZ5SU3W",
        "colab_type": "code",
        "colab": {
          "base_uri": "https://localhost:8080/",
          "height": 54
        },
        "outputId": "ecf002e7-1124-404a-8da5-d2df954e3be3"
      },
      "source": [
        "y_true,y_pred, fn_prob = build_prediction('/content/gdrive/My Drive/audio_classification/Audio-Classification-master/clean/')\n",
        "acc_score = accuracy_score(y_true=y_true, y_pred=y_pred)"
      ],
      "execution_count": 28,
      "outputs": [
        {
          "output_type": "stream",
          "text": [
            "\r  0%|          | 0/300 [00:00<?, ?it/s]"
          ],
          "name": "stderr"
        },
        {
          "output_type": "stream",
          "text": [
            "Extacting features from audio\n"
          ],
          "name": "stdout"
        },
        {
          "output_type": "stream",
          "text": [
            "100%|██████████| 300/300 [02:52<00:00,  1.74it/s]\n"
          ],
          "name": "stderr"
        }
      ]
    },
    {
      "cell_type": "code",
      "metadata": {
        "id": "km-gLb5sTk4z",
        "colab_type": "code",
        "colab": {
          "base_uri": "https://localhost:8080/",
          "height": 35
        },
        "outputId": "93fe76d2-cade-4c86-fe0d-969ab39a94bb"
      },
      "source": [
        "acc_score"
      ],
      "execution_count": 29,
      "outputs": [
        {
          "output_type": "execute_result",
          "data": {
            "text/plain": [
              "0.9490841604131365"
            ]
          },
          "metadata": {
            "tags": []
          },
          "execution_count": 29
        }
      ]
    },
    {
      "cell_type": "code",
      "metadata": {
        "id": "Dec-9-qdhkQh",
        "colab_type": "code",
        "colab": {
          "base_uri": "https://localhost:8080/",
          "height": 424
        },
        "outputId": "06bfec81-1a4d-4950-b784-ef3de0422687"
      },
      "source": [
        "df"
      ],
      "execution_count": 35,
      "outputs": [
        {
          "output_type": "execute_result",
          "data": {
            "text/html": [
              "<div>\n",
              "<style scoped>\n",
              "    .dataframe tbody tr th:only-of-type {\n",
              "        vertical-align: middle;\n",
              "    }\n",
              "\n",
              "    .dataframe tbody tr th {\n",
              "        vertical-align: top;\n",
              "    }\n",
              "\n",
              "    .dataframe thead th {\n",
              "        text-align: right;\n",
              "    }\n",
              "</style>\n",
              "<table border=\"1\" class=\"dataframe\">\n",
              "  <thead>\n",
              "    <tr style=\"text-align: right;\">\n",
              "      <th></th>\n",
              "      <th>fname</th>\n",
              "      <th>label</th>\n",
              "    </tr>\n",
              "  </thead>\n",
              "  <tbody>\n",
              "    <tr>\n",
              "      <th>0</th>\n",
              "      <td>5388d14d.wav</td>\n",
              "      <td>Saxophone</td>\n",
              "    </tr>\n",
              "    <tr>\n",
              "      <th>1</th>\n",
              "      <td>c685f05f.wav</td>\n",
              "      <td>Saxophone</td>\n",
              "    </tr>\n",
              "    <tr>\n",
              "      <th>2</th>\n",
              "      <td>36d20ab5.wav</td>\n",
              "      <td>Saxophone</td>\n",
              "    </tr>\n",
              "    <tr>\n",
              "      <th>3</th>\n",
              "      <td>d6665734.wav</td>\n",
              "      <td>Saxophone</td>\n",
              "    </tr>\n",
              "    <tr>\n",
              "      <th>4</th>\n",
              "      <td>7352e28f.wav</td>\n",
              "      <td>Saxophone</td>\n",
              "    </tr>\n",
              "    <tr>\n",
              "      <th>...</th>\n",
              "      <td>...</td>\n",
              "      <td>...</td>\n",
              "    </tr>\n",
              "    <tr>\n",
              "      <th>295</th>\n",
              "      <td>3c713bcf.wav</td>\n",
              "      <td>Clarinet</td>\n",
              "    </tr>\n",
              "    <tr>\n",
              "      <th>296</th>\n",
              "      <td>2fc00271.wav</td>\n",
              "      <td>Clarinet</td>\n",
              "    </tr>\n",
              "    <tr>\n",
              "      <th>297</th>\n",
              "      <td>b0c06255.wav</td>\n",
              "      <td>Clarinet</td>\n",
              "    </tr>\n",
              "    <tr>\n",
              "      <th>298</th>\n",
              "      <td>71c6451f.wav</td>\n",
              "      <td>Clarinet</td>\n",
              "    </tr>\n",
              "    <tr>\n",
              "      <th>299</th>\n",
              "      <td>5de123c3.wav</td>\n",
              "      <td>Clarinet</td>\n",
              "    </tr>\n",
              "  </tbody>\n",
              "</table>\n",
              "<p>300 rows × 2 columns</p>\n",
              "</div>"
            ],
            "text/plain": [
              "            fname      label\n",
              "0    5388d14d.wav  Saxophone\n",
              "1    c685f05f.wav  Saxophone\n",
              "2    36d20ab5.wav  Saxophone\n",
              "3    d6665734.wav  Saxophone\n",
              "4    7352e28f.wav  Saxophone\n",
              "..            ...        ...\n",
              "295  3c713bcf.wav   Clarinet\n",
              "296  2fc00271.wav   Clarinet\n",
              "297  b0c06255.wav   Clarinet\n",
              "298  71c6451f.wav   Clarinet\n",
              "299  5de123c3.wav   Clarinet\n",
              "\n",
              "[300 rows x 2 columns]"
            ]
          },
          "metadata": {
            "tags": []
          },
          "execution_count": 35
        }
      ]
    },
    {
      "cell_type": "code",
      "metadata": {
        "id": "8MGu-iLIhOci",
        "colab_type": "code",
        "colab": {
          "base_uri": "https://localhost:8080/",
          "height": 201
        },
        "outputId": "7d61f2b5-eb6f-4df1-8d2a-f049c0b31395"
      },
      "source": [
        ""
      ],
      "execution_count": 49,
      "outputs": [
        {
          "output_type": "execute_result",
          "data": {
            "text/plain": [
              "['Acoustic_guitar',\n",
              " 'Bass_drum',\n",
              " 'Cello',\n",
              " 'Clarinet',\n",
              " 'Double_bass',\n",
              " 'Flute',\n",
              " 'Hi-hat',\n",
              " 'Saxophone',\n",
              " 'Snare_drum',\n",
              " 'Violin_or_fiddle']"
            ]
          },
          "metadata": {
            "tags": []
          },
          "execution_count": 49
        }
      ]
    },
    {
      "cell_type": "code",
      "metadata": {
        "id": "YtYs2MGmZQLu",
        "colab_type": "code",
        "colab": {}
      },
      "source": [
        "y_probs = []\n",
        "for i,row in df.iterrows():\n",
        "  y_prob = fn_prob[row.fname]\n",
        "  y_probs.append(y_prob)\n",
        "  for c , p in zip(classes, y_prob):\n",
        "    df.at[i, c] = p\n"
      ],
      "execution_count": 0,
      "outputs": []
    },
    {
      "cell_type": "code",
      "metadata": {
        "id": "r0YCguNSfPBu",
        "colab_type": "code",
        "colab": {}
      },
      "source": [
        "y_pred = [classes[np.argmax(y)] for y in y_probs]\n",
        "df['y_pred'] = y_pred"
      ],
      "execution_count": 0,
      "outputs": []
    },
    {
      "cell_type": "code",
      "metadata": {
        "id": "kc8tmc-ojMyc",
        "colab_type": "code",
        "colab": {
          "base_uri": "https://localhost:8080/",
          "height": 35
        },
        "outputId": "2eb2d1e8-1603-4d36-c6d3-148620065597"
      },
      "source": [
        "len(y_pred)"
      ],
      "execution_count": 53,
      "outputs": [
        {
          "output_type": "execute_result",
          "data": {
            "text/plain": [
              "300"
            ]
          },
          "metadata": {
            "tags": []
          },
          "execution_count": 53
        }
      ]
    },
    {
      "cell_type": "code",
      "metadata": {
        "id": "x8Thne4RjOhn",
        "colab_type": "code",
        "colab": {
          "base_uri": "https://localhost:8080/",
          "height": 444
        },
        "outputId": "8155d8d8-766c-4319-d458-98d37f428cd9"
      },
      "source": [
        "df"
      ],
      "execution_count": 54,
      "outputs": [
        {
          "output_type": "execute_result",
          "data": {
            "text/html": [
              "<div>\n",
              "<style scoped>\n",
              "    .dataframe tbody tr th:only-of-type {\n",
              "        vertical-align: middle;\n",
              "    }\n",
              "\n",
              "    .dataframe tbody tr th {\n",
              "        vertical-align: top;\n",
              "    }\n",
              "\n",
              "    .dataframe thead th {\n",
              "        text-align: right;\n",
              "    }\n",
              "</style>\n",
              "<table border=\"1\" class=\"dataframe\">\n",
              "  <thead>\n",
              "    <tr style=\"text-align: right;\">\n",
              "      <th></th>\n",
              "      <th>fname</th>\n",
              "      <th>label</th>\n",
              "      <th>Acoustic_guitar</th>\n",
              "      <th>Bass_drum</th>\n",
              "      <th>Cello</th>\n",
              "      <th>Clarinet</th>\n",
              "      <th>Double_bass</th>\n",
              "      <th>Flute</th>\n",
              "      <th>Hi-hat</th>\n",
              "      <th>Saxophone</th>\n",
              "      <th>Snare_drum</th>\n",
              "      <th>Violin_or_fiddle</th>\n",
              "      <th>y_pred</th>\n",
              "    </tr>\n",
              "  </thead>\n",
              "  <tbody>\n",
              "    <tr>\n",
              "      <th>0</th>\n",
              "      <td>5388d14d.wav</td>\n",
              "      <td>Saxophone</td>\n",
              "      <td>1.049089e-04</td>\n",
              "      <td>3.488645e-02</td>\n",
              "      <td>0.005726</td>\n",
              "      <td>0.000468</td>\n",
              "      <td>3.873389e-04</td>\n",
              "      <td>0.027354</td>\n",
              "      <td>4.908820e-05</td>\n",
              "      <td>0.929035</td>\n",
              "      <td>5.422727e-05</td>\n",
              "      <td>0.001936</td>\n",
              "      <td>Saxophone</td>\n",
              "    </tr>\n",
              "    <tr>\n",
              "      <th>1</th>\n",
              "      <td>c685f05f.wav</td>\n",
              "      <td>Saxophone</td>\n",
              "      <td>2.855035e-03</td>\n",
              "      <td>9.503222e-05</td>\n",
              "      <td>0.007334</td>\n",
              "      <td>0.000235</td>\n",
              "      <td>1.070122e-05</td>\n",
              "      <td>0.002173</td>\n",
              "      <td>2.707841e-03</td>\n",
              "      <td>0.975437</td>\n",
              "      <td>5.825272e-04</td>\n",
              "      <td>0.008570</td>\n",
              "      <td>Saxophone</td>\n",
              "    </tr>\n",
              "    <tr>\n",
              "      <th>2</th>\n",
              "      <td>36d20ab5.wav</td>\n",
              "      <td>Saxophone</td>\n",
              "      <td>6.826568e-05</td>\n",
              "      <td>3.340378e-05</td>\n",
              "      <td>0.021175</td>\n",
              "      <td>0.000024</td>\n",
              "      <td>2.328529e-05</td>\n",
              "      <td>0.000034</td>\n",
              "      <td>3.032180e-06</td>\n",
              "      <td>0.978402</td>\n",
              "      <td>2.311828e-04</td>\n",
              "      <td>0.000006</td>\n",
              "      <td>Saxophone</td>\n",
              "    </tr>\n",
              "    <tr>\n",
              "      <th>3</th>\n",
              "      <td>d6665734.wav</td>\n",
              "      <td>Saxophone</td>\n",
              "      <td>6.469005e-03</td>\n",
              "      <td>7.456051e-05</td>\n",
              "      <td>0.057996</td>\n",
              "      <td>0.000198</td>\n",
              "      <td>3.589284e-03</td>\n",
              "      <td>0.019951</td>\n",
              "      <td>1.498134e-05</td>\n",
              "      <td>0.896105</td>\n",
              "      <td>5.681429e-04</td>\n",
              "      <td>0.015034</td>\n",
              "      <td>Saxophone</td>\n",
              "    </tr>\n",
              "    <tr>\n",
              "      <th>4</th>\n",
              "      <td>7352e28f.wav</td>\n",
              "      <td>Saxophone</td>\n",
              "      <td>1.037051e-09</td>\n",
              "      <td>1.536130e-11</td>\n",
              "      <td>0.000005</td>\n",
              "      <td>0.000023</td>\n",
              "      <td>5.726994e-08</td>\n",
              "      <td>0.009816</td>\n",
              "      <td>1.983828e-11</td>\n",
              "      <td>0.988325</td>\n",
              "      <td>2.064295e-13</td>\n",
              "      <td>0.001830</td>\n",
              "      <td>Saxophone</td>\n",
              "    </tr>\n",
              "    <tr>\n",
              "      <th>...</th>\n",
              "      <td>...</td>\n",
              "      <td>...</td>\n",
              "      <td>...</td>\n",
              "      <td>...</td>\n",
              "      <td>...</td>\n",
              "      <td>...</td>\n",
              "      <td>...</td>\n",
              "      <td>...</td>\n",
              "      <td>...</td>\n",
              "      <td>...</td>\n",
              "      <td>...</td>\n",
              "      <td>...</td>\n",
              "      <td>...</td>\n",
              "    </tr>\n",
              "    <tr>\n",
              "      <th>295</th>\n",
              "      <td>3c713bcf.wav</td>\n",
              "      <td>Clarinet</td>\n",
              "      <td>9.515157e-06</td>\n",
              "      <td>3.680542e-06</td>\n",
              "      <td>0.002267</td>\n",
              "      <td>0.997556</td>\n",
              "      <td>1.135282e-05</td>\n",
              "      <td>0.000005</td>\n",
              "      <td>1.058600e-04</td>\n",
              "      <td>0.000002</td>\n",
              "      <td>7.320091e-07</td>\n",
              "      <td>0.000039</td>\n",
              "      <td>Clarinet</td>\n",
              "    </tr>\n",
              "    <tr>\n",
              "      <th>296</th>\n",
              "      <td>2fc00271.wav</td>\n",
              "      <td>Clarinet</td>\n",
              "      <td>1.379349e-04</td>\n",
              "      <td>9.890555e-07</td>\n",
              "      <td>0.013752</td>\n",
              "      <td>0.984247</td>\n",
              "      <td>1.089483e-03</td>\n",
              "      <td>0.000229</td>\n",
              "      <td>6.306072e-05</td>\n",
              "      <td>0.000089</td>\n",
              "      <td>2.683035e-04</td>\n",
              "      <td>0.000123</td>\n",
              "      <td>Clarinet</td>\n",
              "    </tr>\n",
              "    <tr>\n",
              "      <th>297</th>\n",
              "      <td>b0c06255.wav</td>\n",
              "      <td>Clarinet</td>\n",
              "      <td>3.136675e-04</td>\n",
              "      <td>5.979131e-08</td>\n",
              "      <td>0.003218</td>\n",
              "      <td>0.968651</td>\n",
              "      <td>6.248268e-04</td>\n",
              "      <td>0.007721</td>\n",
              "      <td>1.471354e-05</td>\n",
              "      <td>0.013679</td>\n",
              "      <td>1.287038e-05</td>\n",
              "      <td>0.005765</td>\n",
              "      <td>Clarinet</td>\n",
              "    </tr>\n",
              "    <tr>\n",
              "      <th>298</th>\n",
              "      <td>71c6451f.wav</td>\n",
              "      <td>Clarinet</td>\n",
              "      <td>1.597403e-06</td>\n",
              "      <td>7.185930e-11</td>\n",
              "      <td>0.000015</td>\n",
              "      <td>0.907378</td>\n",
              "      <td>5.990226e-07</td>\n",
              "      <td>0.006096</td>\n",
              "      <td>2.373303e-07</td>\n",
              "      <td>0.000105</td>\n",
              "      <td>1.813244e-06</td>\n",
              "      <td>0.086402</td>\n",
              "      <td>Clarinet</td>\n",
              "    </tr>\n",
              "    <tr>\n",
              "      <th>299</th>\n",
              "      <td>5de123c3.wav</td>\n",
              "      <td>Clarinet</td>\n",
              "      <td>9.573207e-03</td>\n",
              "      <td>5.992038e-13</td>\n",
              "      <td>0.000077</td>\n",
              "      <td>0.941358</td>\n",
              "      <td>1.282520e-08</td>\n",
              "      <td>0.021319</td>\n",
              "      <td>3.719089e-09</td>\n",
              "      <td>0.000254</td>\n",
              "      <td>6.146671e-06</td>\n",
              "      <td>0.027413</td>\n",
              "      <td>Clarinet</td>\n",
              "    </tr>\n",
              "  </tbody>\n",
              "</table>\n",
              "<p>300 rows × 13 columns</p>\n",
              "</div>"
            ],
            "text/plain": [
              "            fname      label  ...  Violin_or_fiddle     y_pred\n",
              "0    5388d14d.wav  Saxophone  ...          0.001936  Saxophone\n",
              "1    c685f05f.wav  Saxophone  ...          0.008570  Saxophone\n",
              "2    36d20ab5.wav  Saxophone  ...          0.000006  Saxophone\n",
              "3    d6665734.wav  Saxophone  ...          0.015034  Saxophone\n",
              "4    7352e28f.wav  Saxophone  ...          0.001830  Saxophone\n",
              "..            ...        ...  ...               ...        ...\n",
              "295  3c713bcf.wav   Clarinet  ...          0.000039   Clarinet\n",
              "296  2fc00271.wav   Clarinet  ...          0.000123   Clarinet\n",
              "297  b0c06255.wav   Clarinet  ...          0.005765   Clarinet\n",
              "298  71c6451f.wav   Clarinet  ...          0.086402   Clarinet\n",
              "299  5de123c3.wav   Clarinet  ...          0.027413   Clarinet\n",
              "\n",
              "[300 rows x 13 columns]"
            ]
          },
          "metadata": {
            "tags": []
          },
          "execution_count": 54
        }
      ]
    },
    {
      "cell_type": "code",
      "metadata": {
        "id": "Ab73qaThjXHn",
        "colab_type": "code",
        "colab": {}
      },
      "source": [
        ""
      ],
      "execution_count": 0,
      "outputs": []
    }
  ]
}