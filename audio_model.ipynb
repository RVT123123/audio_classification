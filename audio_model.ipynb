{
  "nbformat": 4,
  "nbformat_minor": 0,
  "metadata": {
    "colab": {
      "name": "audio_model.ipynb",
      "provenance": [],
      "authorship_tag": "ABX9TyP+StvMnhfNPZeUbOQdcYRO",
      "include_colab_link": true
    },
    "kernelspec": {
      "name": "python3",
      "display_name": "Python 3"
    },
    "accelerator": "TPU"
  },
  "cells": [
    {
      "cell_type": "markdown",
      "metadata": {
        "id": "view-in-github",
        "colab_type": "text"
      },
      "source": [
        "<a href=\"https://colab.research.google.com/github/RVT123123/audio_classification/blob/master/audio_model.ipynb\" target=\"_parent\"><img src=\"https://colab.research.google.com/assets/colab-badge.svg\" alt=\"Open In Colab\"/></a>"
      ]
    },
    {
      "cell_type": "code",
      "metadata": {
        "id": "k1uDmslLh1JB",
        "colab_type": "code",
        "colab": {
          "base_uri": "https://localhost:8080/",
          "height": 129
        },
        "outputId": "aff7f34e-b0a2-4de0-a863-770e4aa52211"
      },
      "source": [
        "from google.colab import drive\n",
        "drive.mount('/content/gdrive')"
      ],
      "execution_count": 2,
      "outputs": [
        {
          "output_type": "stream",
          "text": [
            "Go to this URL in a browser: https://accounts.google.com/o/oauth2/auth?client_id=947318989803-6bn6qk8qdgf4n4g3pfee6491hc0brc4i.apps.googleusercontent.com&redirect_uri=urn%3aietf%3awg%3aoauth%3a2.0%3aoob&response_type=code&scope=email%20https%3a%2f%2fwww.googleapis.com%2fauth%2fdocs.test%20https%3a%2f%2fwww.googleapis.com%2fauth%2fdrive%20https%3a%2f%2fwww.googleapis.com%2fauth%2fdrive.photos.readonly%20https%3a%2f%2fwww.googleapis.com%2fauth%2fpeopleapi.readonly\n",
            "\n",
            "Enter your authorization code:\n",
            "··········\n",
            "Mounted at /content/gdrive\n"
          ],
          "name": "stdout"
        }
      ]
    },
    {
      "cell_type": "code",
      "metadata": {
        "id": "NaeY0Y2kxKDD",
        "colab_type": "code",
        "colab": {
          "base_uri": "https://localhost:8080/",
          "height": 202
        },
        "outputId": "7a7cdbc6-d32f-48df-c5cf-0d55711b93df"
      },
      "source": [
        "pip install python_speech_features"
      ],
      "execution_count": 4,
      "outputs": [
        {
          "output_type": "stream",
          "text": [
            "Collecting python_speech_features\n",
            "  Downloading https://files.pythonhosted.org/packages/ff/d1/94c59e20a2631985fbd2124c45177abaa9e0a4eee8ba8a305aa26fc02a8e/python_speech_features-0.6.tar.gz\n",
            "Building wheels for collected packages: python-speech-features\n",
            "  Building wheel for python-speech-features (setup.py) ... \u001b[?25l\u001b[?25hdone\n",
            "  Created wheel for python-speech-features: filename=python_speech_features-0.6-cp36-none-any.whl size=5887 sha256=bfc6f2b2d0344205e04fa5055d1d5010c836978093940b9b978f8addccd3258f\n",
            "  Stored in directory: /root/.cache/pip/wheels/3c/42/7c/f60e9d1b40015cd69b213ad90f7c18a9264cd745b9888134be\n",
            "Successfully built python-speech-features\n",
            "Installing collected packages: python-speech-features\n",
            "Successfully installed python-speech-features-0.6\n"
          ],
          "name": "stdout"
        }
      ]
    },
    {
      "cell_type": "code",
      "metadata": {
        "id": "TPVlmYSlw8wl",
        "colab_type": "code",
        "colab": {}
      },
      "source": [
        "import os\n",
        "from scipy.io import wavfile\n",
        "import pandas as pd\n",
        "import matplotlib.pyplot as plt\n",
        "import numpy as np\n",
        "from keras.layers import Conv2D, MaxPool2D, Flatten, LSTM\n",
        "from keras.layers import Dropout, Dense, TimeDistributed\n",
        "from keras.models import Sequential\n",
        "from keras.utils import to_categorical\n",
        "from sklearn.utils.class_weight import compute_class_weight\n",
        "from tqdm import tqdm\n",
        "from python_speech_features import mfcc\n",
        "import pickle\n",
        "from keras.callbacks import ModelCheckpoint\n",
        "from cfg import Config"
      ],
      "execution_count": 0,
      "outputs": []
    },
    {
      "cell_type": "code",
      "metadata": {
        "id": "NWqbEUPpin8R",
        "colab_type": "code",
        "colab": {}
      },
      "source": [
        "def check_data():\n",
        "    if os.path.isfile(config.p_path):\n",
        "        print(\"Loading existing data for  {} model\".format(config.mode))\n",
        "        with open(config.p_path, 'rb') as handle:\n",
        "            tmp = pickle.load(handle)\n",
        "            return tmp\n",
        "    else:\n",
        "        return None\n"
      ],
      "execution_count": 0,
      "outputs": []
    },
    {
      "cell_type": "code",
      "metadata": {
        "id": "V58fQJFz1qtM",
        "colab_type": "code",
        "colab": {}
      },
      "source": [
        "df = pd.read_csv('/content/gdrive/My Drive/audio_classification/Audio-Classification-master/instruments.csv')"
      ],
      "execution_count": 0,
      "outputs": []
    },
    {
      "cell_type": "code",
      "metadata": {
        "id": "Ojnl-2Z5113Q",
        "colab_type": "code",
        "colab": {}
      },
      "source": [
        "def build_rand_feat():\n",
        "    tmp = check_data()\n",
        "    if tmp:\n",
        "        return tmp.data[0],tmp.data[1]\n",
        "    \n",
        "    X = []\n",
        "    y = []\n",
        "    _min,_max = float('inf'), -float('inf')\n",
        "    for _ in tqdm(range(n_samples)):\n",
        "        rand_class = np.random.choice(class_dist.index, p=prob_dist)\n",
        "        file = np.random.choice(df[df.label==rand_class].index)\n",
        "        rate, wav = wavfile.read('/content/gdrive/My Drive/audio_classification/Audio-Classification-master/clean/'+file)\n",
        "        label = df.at[file, 'label']\n",
        "        rand_index = np.random.randint(0, wav.shape[0]-config.step)\n",
        "        sample = wav[rand_index:rand_index+config.step]\n",
        "        X_sample = mfcc(sample, rate,numcep = config.nfeat , nfilt=config.nfilt, nfft=config.nfft )\n",
        "        _min = min(np.amin(X_sample), _min)\n",
        "        _max = max(np.amax(X_sample), _max)\n",
        "        X.append(X_sample)\n",
        "        y.append(classes.index(label))\n",
        "    config.min = _min\n",
        "    config.max = _max\n",
        "    X, y = np.array(X), np.array(y)\n",
        "    X = (X - _min)/ (_max - _min)\n",
        "    if config.mode == 'conv':\n",
        "        X = X.reshape(X.shape[0] , X.shape[1] , X.shape[2] , 1)\n",
        "    elif config.mode == 'time':\n",
        "        X = X.reshape(X.shape[0] , X.shape[1] , X.shape[2])\n",
        "    y = to_categorical(y, num_classes=10)\n",
        "    config.data = (X,y)\n",
        "    with open(config.p_path, 'wb') as handle:\n",
        "        pickle.dump(config,handle,protocol =2)\n",
        "    \n",
        "    return X,y"
      ],
      "execution_count": 0,
      "outputs": []
    },
    {
      "cell_type": "code",
      "metadata": {
        "id": "_5zisKyS4M5Q",
        "colab_type": "code",
        "colab": {}
      },
      "source": [
        "def get_conv_model():\n",
        "    model = Sequential()\n",
        "    model.add(Conv2D(16, (3, 3), activation='relu', strides=(1,1),\n",
        "                     padding= 'same' , input_shape = input_shape))\n",
        "    model.add(Conv2D(32, (3, 3), activation='relu', strides=(1,1),\n",
        "                     padding= 'same'))\n",
        "    model.add(Conv2D(64, (3, 3), activation='relu', strides=(1,1),\n",
        "                     padding= 'same'))\n",
        "    model.add(Conv2D(128, (3, 3), activation='relu', strides=(1,1),\n",
        "                     padding= 'same'))\n",
        "    model.add(MaxPool2D((2,2)))\n",
        "    model.add(Dropout(0.5))\n",
        "    model.add(Flatten())\n",
        "    model.add(Dense(128, activation='relu'))\n",
        "    model.add(Dense(64, activation='relu'))\n",
        "    model.add(Dense(10, activation='softmax'))\n",
        "    model.summary()\n",
        "    model.compile(loss='categorical_crossentropy',\n",
        "                  optimizer='adam',\n",
        "                  metrics=['acc'])\n",
        "    return model\n"
      ],
      "execution_count": 0,
      "outputs": []
    },
    {
      "cell_type": "code",
      "metadata": {
        "id": "UVN2h9qQ4R3V",
        "colab_type": "code",
        "colab": {}
      },
      "source": [
        "def get_recurrent_model():\n",
        "    #shape of data for RNN is(n,time,feat)\n",
        "    model = Sequential()\n",
        "    model.add(LSTM(128, retun_sequence=True,input_shape=input_shape))\n",
        "    model.add(LSTM(128, retun_sequence=True))\n",
        "    model.add(Dropout(0.5))\n",
        "    model.add(TimeDistributed(Dense(64, activation='relu')))\n",
        "    model.add(TimeDistributed(Dense(32, activation='relu')))\n",
        "    model.add(TimeDistributed(Dense(16, activation='relu')))\n",
        "    model.add(TimeDistributed(Dense(8, activation='relu')))\n",
        "    model.add(Flatten())\n",
        "    model.add(Dense(10, activation='softmax'))\n",
        "    model.summary()\n",
        "    model.compile(loss='categorical_crossentropy',\n",
        "                  optimizer='adam',\n",
        "                  metrics=['acc'])\n",
        "    return model\n",
        "        \n"
      ],
      "execution_count": 0,
      "outputs": []
    },
    {
      "cell_type": "code",
      "metadata": {
        "id": "tAzU1Hu24Ztj",
        "colab_type": "code",
        "colab": {}
      },
      "source": [
        "df.set_index('fname', inplace=True)"
      ],
      "execution_count": 0,
      "outputs": []
    },
    {
      "cell_type": "code",
      "metadata": {
        "id": "yzLb2l4n4eD-",
        "colab_type": "code",
        "colab": {}
      },
      "source": [
        "for f in df.index:\n",
        "    rate, signal = wavfile.read('/content/gdrive/My Drive/audio_classification/Audio-Classification-master/clean/'+f)\n",
        "    df.at[f, 'length'] = signal.shape[0]/rate"
      ],
      "execution_count": 0,
      "outputs": []
    },
    {
      "cell_type": "code",
      "metadata": {
        "id": "S50WQ6jy45gc",
        "colab_type": "code",
        "colab": {}
      },
      "source": [
        "classes = list(np.unique(df.label))\n",
        "class_dist = df.groupby(['label'])['length'].mean()"
      ],
      "execution_count": 0,
      "outputs": []
    },
    {
      "cell_type": "code",
      "metadata": {
        "id": "vk14inbt51f8",
        "colab_type": "code",
        "colab": {}
      },
      "source": [
        "n_samples = 2 * int(df['length'].sum()/0.1)\n",
        "prob_dist = class_dist / class_dist.sum()\n",
        "choices = np.random.choice(class_dist.index, p =prob_dist)\n"
      ],
      "execution_count": 0,
      "outputs": []
    },
    {
      "cell_type": "code",
      "metadata": {
        "id": "jxS1A3LD54Iq",
        "colab_type": "code",
        "colab": {
          "base_uri": "https://localhost:8080/",
          "height": 283
        },
        "outputId": "0454247e-fc2f-4089-ca20-e28aa6205b63"
      },
      "source": [
        "fig, ax = plt.subplots()\n",
        "ax.set_title('Class Distribution', y=1.08)\n",
        "ax.pie(class_dist, labels=class_dist.index, autopct='%1.1f%%',\n",
        "       shadow=False, startangle=90)\n",
        "ax.axis('equal')\n",
        "plt.show()"
      ],
      "execution_count": 60,
      "outputs": [
        {
          "output_type": "display_data",
          "data": {
            "image/png": "[encoded data removed]",
            "text/plain": [
              "<Figure size 432x288 with 1 Axes>"
            ]
          },
          "metadata": {
            "tags": []
          }
        }
      ]
    },
    {
      "cell_type": "code",
      "metadata": {
        "id": "ojKfEKAF6UjO",
        "colab_type": "code",
        "colab": {}
      },
      "source": [
        "######## set mode for our model ##############\n",
        "##########  conv for convolution\n",
        "##########  time for lstm stack \n",
        "\n",
        "\n",
        "config = Config(mode='conv')\n"
      ],
      "execution_count": 0,
      "outputs": []
    },
    {
      "cell_type": "code",
      "metadata": {
        "id": "IWfA-hQWIECm",
        "colab_type": "code",
        "colab": {}
      },
      "source": [
        ""
      ],
      "execution_count": 0,
      "outputs": []
    },
    {
      "cell_type": "code",
      "metadata": {
        "id": "H9tRiN4p6qi-",
        "colab_type": "code",
        "colab": {
          "base_uri": "https://localhost:8080/",
          "height": 550
        },
        "outputId": "b4cd2a37-fe60-4280-8a28-ecdafb1de714"
      },
      "source": [
        "if config.mode == 'conv':\n",
        "    X ,y = build_rand_feat()\n",
        "    y_flat = np.argmax(y, axis=1)\n",
        "    input_shape = (X.shape[1] , X.shape[2] ,1)\n",
        "    model =  get_conv_model()\n",
        "    \n",
        "elif config.mode == 'time':\n",
        "    X , y = build_rand_feat()\n",
        "    y_flat = np.argmax(y, axis=1)\n",
        "    input_shape = (X.shape[1] , X.shape[2] )\n",
        "    model =  get_recurrent_model()"
      ],
      "execution_count": 62,
      "outputs": [
        {
          "output_type": "stream",
          "text": [
            "Loading existing data for  conv model\n",
            "Model: \"sequential_4\"\n",
            "_________________________________________________________________\n",
            "Layer (type)                 Output Shape              Param #   \n",
            "=================================================================\n",
            "conv2d_13 (Conv2D)           (None, 9, 13, 16)         160       \n",
            "_________________________________________________________________\n",
            "conv2d_14 (Conv2D)           (None, 9, 13, 32)         4640      \n",
            "_________________________________________________________________\n",
            "conv2d_15 (Conv2D)           (None, 9, 13, 64)         18496     \n",
            "_________________________________________________________________\n",
            "conv2d_16 (Conv2D)           (None, 9, 13, 128)        73856     \n",
            "_________________________________________________________________\n",
            "max_pooling2d_4 (MaxPooling2 (None, 4, 6, 128)         0         \n",
            "_________________________________________________________________\n",
            "dropout_4 (Dropout)          (None, 4, 6, 128)         0         \n",
            "_________________________________________________________________\n",
            "flatten_4 (Flatten)          (None, 3072)              0         \n",
            "_________________________________________________________________\n",
            "dense_10 (Dense)             (None, 128)               393344    \n",
            "_________________________________________________________________\n",
            "dense_11 (Dense)             (None, 64)                8256      \n",
            "_________________________________________________________________\n",
            "dense_12 (Dense)             (None, 10)                650       \n",
            "=================================================================\n",
            "Total params: 499,402\n",
            "Trainable params: 499,402\n",
            "Non-trainable params: 0\n",
            "_________________________________________________________________\n"
          ],
          "name": "stdout"
        }
      ]
    },
    {
      "cell_type": "code",
      "metadata": {
        "id": "1YbwFMoB8r6a",
        "colab_type": "code",
        "colab": {}
      },
      "source": [
        "class_weight = compute_class_weight('balanced',\n",
        "                                    np.unique(y_flat),\n",
        "                                    y_flat)"
      ],
      "execution_count": 0,
      "outputs": []
    },
    {
      "cell_type": "code",
      "metadata": {
        "id": "BEmp7SqP6vnF",
        "colab_type": "code",
        "colab": {
          "base_uri": "https://localhost:8080/",
          "height": 790
        },
        "outputId": "03fce85c-77f3-494e-e7d6-3d68d315ecac"
      },
      "source": [
        "checkpoint = ModelCheckpoint(config.model_path,monitor='val_acc', verbose=1, mode='max', save_best_only=True, save_weights_only=False,period=1)\n",
        "model.fit(X, y, epochs=10, batch_size=32,\n",
        "          shuffle=True,validation_split=0.1,\n",
        "          callbacks=[checkpoint],\n",
        "          class_weight = class_weight)\n",
        "\n",
        "model.save(config.model_path)"
      ],
      "execution_count": 66,
      "outputs": [
        {
          "output_type": "stream",
          "text": [
            "Train on 22602 samples, validate on 2512 samples\n",
            "Epoch 1/10\n",
            "22602/22602 [==============================] - 56s 2ms/step - loss: 1.0064 - acc: 0.6417 - val_loss: 0.5259 - val_acc: 0.8089\n",
            "\n",
            "Epoch 00001: val_acc improved from -inf to 0.80892, saving model to /content/gdrive/My Drive/AUDIO_classifier/models/conv.model\n",
            "Epoch 2/10\n",
            "22602/22602 [==============================] - 55s 2ms/step - loss: 0.4583 - acc: 0.8412 - val_loss: 0.3423 - val_acc: 0.8826\n",
            "\n",
            "Epoch 00002: val_acc improved from 0.80892 to 0.88256, saving model to /content/gdrive/My Drive/AUDIO_classifier/models/conv.model\n",
            "Epoch 3/10\n",
            "22602/22602 [==============================] - 56s 2ms/step - loss: 0.3338 - acc: 0.8843 - val_loss: 0.2827 - val_acc: 0.9072\n",
            "\n",
            "Epoch 00003: val_acc improved from 0.88256 to 0.90725, saving model to /content/gdrive/My Drive/AUDIO_classifier/models/conv.model\n",
            "Epoch 4/10\n",
            "22602/22602 [==============================] - 56s 2ms/step - loss: 0.2579 - acc: 0.9097 - val_loss: 0.2464 - val_acc: 0.9172\n",
            "\n",
            "Epoch 00004: val_acc improved from 0.90725 to 0.91720, saving model to /content/gdrive/My Drive/AUDIO_classifier/models/conv.model\n",
            "Epoch 5/10\n",
            "22602/22602 [==============================] - 55s 2ms/step - loss: 0.2110 - acc: 0.9260 - val_loss: 0.1892 - val_acc: 0.9391\n",
            "\n",
            "Epoch 00005: val_acc improved from 0.91720 to 0.93909, saving model to /content/gdrive/My Drive/AUDIO_classifier/models/conv.model\n",
            "Epoch 6/10\n",
            "22602/22602 [==============================] - 54s 2ms/step - loss: 0.1875 - acc: 0.9334 - val_loss: 0.1810 - val_acc: 0.9411\n",
            "\n",
            "Epoch 00006: val_acc improved from 0.93909 to 0.94108, saving model to /content/gdrive/My Drive/AUDIO_classifier/models/conv.model\n",
            "Epoch 7/10\n",
            "22602/22602 [==============================] - 54s 2ms/step - loss: 0.1605 - acc: 0.9460 - val_loss: 0.1645 - val_acc: 0.9510\n",
            "\n",
            "Epoch 00007: val_acc improved from 0.94108 to 0.95104, saving model to /content/gdrive/My Drive/AUDIO_classifier/models/conv.model\n",
            "Epoch 8/10\n",
            "22602/22602 [==============================] - 55s 2ms/step - loss: 0.1408 - acc: 0.9502 - val_loss: 0.1659 - val_acc: 0.9510\n",
            "\n",
            "Epoch 00008: val_acc did not improve from 0.95104\n",
            "Epoch 9/10\n",
            "22602/22602 [==============================] - 55s 2ms/step - loss: 0.1348 - acc: 0.9531 - val_loss: 0.1538 - val_acc: 0.9558\n",
            "\n",
            "Epoch 00009: val_acc improved from 0.95104 to 0.95581, saving model to /content/gdrive/My Drive/AUDIO_classifier/models/conv.model\n",
            "Epoch 10/10\n",
            "22602/22602 [==============================] - 56s 2ms/step - loss: 0.1271 - acc: 0.9557 - val_loss: 0.1475 - val_acc: 0.9558\n",
            "\n",
            "Epoch 00010: val_acc did not improve from 0.95581\n"
          ],
          "name": "stdout"
        }
      ]
    },
    {
      "cell_type": "code",
      "metadata": {
        "id": "ELEiLs027od6",
        "colab_type": "code",
        "colab": {}
      },
      "source": [
        ""
      ],
      "execution_count": 0,
      "outputs": []
    }
  ]
}